{
 "cells": [
  {
   "cell_type": "markdown",
   "id": "9f364ed9",
   "metadata": {},
   "source": [
    "# Análise Gráfica das implementações da Mochila (Knapsack)"
   ]
  },
  {
   "cell_type": "markdown",
   "id": "83b818fd",
   "metadata": {},
   "source": [
    "<em>Feito por <b>Lucas Guerreiro Pellegrini</b></em>\n",
    "<em> e <b>Gabriel Teodoro Ribeiro;</b></em>\n",
    "\n",
    "<em>Para a disciplina de Análise de Algoritmos.</em>"
   ]
  },
  {
   "cell_type": "markdown",
   "id": "a0444feb",
   "metadata": {},
   "source": [
    "### Código:"
   ]
  },
  {
   "cell_type": "code",
   "execution_count": 1,
   "id": "fbf6f4fb",
   "metadata": {},
   "outputs": [],
   "source": [
    "import numpy as np\n",
    "import math\n",
    "import tracemalloc\n",
    "from timeit import default_timer as timer\n",
    "import matplotlib.pyplot as plt"
   ]
  },
  {
   "cell_type": "code",
   "execution_count": 2,
   "id": "57e53cd5",
   "metadata": {},
   "outputs": [],
   "source": [
    "PESO = 1\n",
    "VALOR = 0"
   ]
  },
  {
   "cell_type": "markdown",
   "id": "57ad0023",
   "metadata": {},
   "source": [
    "<h3 align=\"center\"> Implementação Recursiva: </h3>"
   ]
  },
  {
   "cell_type": "code",
   "execution_count": 3,
   "id": "307dd816",
   "metadata": {},
   "outputs": [],
   "source": [
    "def mochila_exponencial(k, coisas, n):\n",
    "    if n == 0:\n",
    "        if coisas[n][PESO] <= k:\n",
    "            return coisas[n][VALOR]\n",
    "        return 0\n",
    "\n",
    "    valorCom = -1\n",
    "    if k >= coisas[n][PESO]:\n",
    "        valorCom = mochila_exponencial(k - coisas[n][PESO], coisas, n - 1) + coisas[n][VALOR]\n",
    "\n",
    "    valorSem = mochila_exponencial(k, coisas, n - 1)\n",
    "\n",
    "    return max(valorCom, valorSem)"
   ]
  },
  {
   "cell_type": "markdown",
   "id": "a0342080",
   "metadata": {},
   "source": [
    "<h3 align=\"center\"> Implementação Memoizada: </h3>"
   ]
  },
  {
   "cell_type": "code",
   "execution_count": 4,
   "id": "a22bd301",
   "metadata": {},
   "outputs": [],
   "source": [
    "class MochilaMemo:\n",
    "    def __init__(self):\n",
    "        self.dic = {}\n",
    "\n",
    "    def resolve(self, k, coisas, n):\n",
    "        if n == 0:\n",
    "            if coisas[n][PESO] <= k:\n",
    "                return coisas[n][VALOR]\n",
    "            return 0\n",
    "\n",
    "        if (n, k) in self.dic:\n",
    "            return self.dic[(n, k)]\n",
    "\n",
    "        # Calcula o possível valor sem o elemento\n",
    "        valorSem = self.resolve(k, coisas, n - 1)\n",
    "\n",
    "        # Calcula o possível valor com o elemento\n",
    "        if k >= coisas[n][PESO]:\n",
    "            valorCom = self.resolve(k - coisas[n][PESO], coisas, n - 1) + coisas[n][VALOR]\n",
    "            self.dic[(n, k)] = max(valorCom, valorSem)\n",
    "        # Se não cabe, é sem mesmo\n",
    "        else:\n",
    "            self.dic[(n, k)] = valorSem\n",
    "\n",
    "        return self.dic[(n, k)]"
   ]
  },
  {
   "cell_type": "markdown",
   "id": "a7ee8b41",
   "metadata": {},
   "source": [
    "<h3 align=\"center\"> Implementação com Programação Dinâmica: </h3>"
   ]
  },
  {
   "cell_type": "code",
   "execution_count": 5,
   "id": "7366d378",
   "metadata": {},
   "outputs": [],
   "source": [
    "class MochilaPD:\n",
    "    def __init__(self):\n",
    "        self.matriz = [[]]\n",
    "        self.resposta = -1\n",
    "\n",
    "    def resolve(self, k, coisas):\n",
    "        self.matriz = np.zeros((len(coisas), k+1))\n",
    "\n",
    "        for i in range(len(coisas)):\n",
    "            for c in range(0, k+1):\n",
    "                if coisas[i - 1][PESO] > c:\n",
    "                    self.matriz[i][c] = self.matriz[i - 1][c]\n",
    "                else:\n",
    "                    menorSem = self.matriz[i - 1][c]\n",
    "                    menorCom = self.matriz[i - 1][c - coisas[i - 1][PESO]] + coisas[i - 1][VALOR]\n",
    "                    self.matriz[i][c] = max(menorSem, menorCom)\n",
    "\n",
    "        self.acha_maior()\n",
    "\n",
    "    def acha_maior(self):\n",
    "        for linha in self.matriz:\n",
    "            for elem in linha:\n",
    "                if elem > self.resposta:\n",
    "                    self.resposta = elem"
   ]
  },
  {
   "cell_type": "markdown",
   "id": "52d58ad4",
   "metadata": {},
   "source": [
    "<h3 align=\"center\"> Implementação Aproximada (IK): </h3>"
   ]
  },
  {
   "cell_type": "code",
   "execution_count": 6,
   "id": "00e2e455",
   "metadata": {},
   "outputs": [],
   "source": [
    "class MochilaA:\n",
    "    def __init__(self):\n",
    "        self.matriz = [[]]\n",
    "        self.resposta = -1\n",
    "\n",
    "    def resolve(self, k, coisas, epsilon = 0.15):\n",
    "        coisas = self.pre_processamento_IK(k, coisas, epsilon)\n",
    "\n",
    "        self.matriz = np.zeros((len(coisas), k+1))\n",
    "\n",
    "        for i in range(len(coisas)):\n",
    "            for c in range(0, k+1):\n",
    "                if coisas[i - 1][PESO] > c:\n",
    "                    self.matriz[i][c] = self.matriz[i - 1][c]\n",
    "                else:\n",
    "                    menorSem = self.matriz[i - 1][c]\n",
    "                    menorCom = self.matriz[i - 1][c - coisas[i - 1][PESO]] + coisas[i - 1][VALOR]\n",
    "                    self.matriz[i][c] = max(menorSem, menorCom)\n",
    "\n",
    "        self.acha_maior()\n",
    "\n",
    "    def acha_maior(self):\n",
    "        for linha in self.matriz:\n",
    "            for elem in linha:\n",
    "                if elem > self.resposta:\n",
    "                    self.resposta = elem\n",
    "\n",
    "    def pre_processamento_IK(self, k, coisas, epsilon):\n",
    "        # Remove elementos com peso maior que a capacidade\n",
    "        coisas[:] = [x for x in coisas if x[PESO] <= k]\n",
    "\n",
    "        # IBARRA-KIM\n",
    "        sigma = max(coisas)[VALOR]\n",
    "        #epsilon = np.random.ranf()\n",
    "        print(f\"\\u03B5 = {epsilon}\")\n",
    "        lmbd = (epsilon * sigma) / (len(coisas)-1)\n",
    "\n",
    "        u = []\n",
    "        for valor, peso in coisas:\n",
    "            u.append(tuple((int(math.floor(valor/lmbd)), peso)))\n",
    "            \n",
    "        return u"
   ]
  },
  {
   "cell_type": "markdown",
   "id": "62028a15",
   "metadata": {},
   "source": [
    "<h2><center> Testes: </center></h2>"
   ]
  },
  {
   "cell_type": "code",
   "execution_count": 7,
   "id": "7470572d",
   "metadata": {},
   "outputs": [],
   "source": [
    "lista_coisas = [(10, 5), (40, 4), (30, 6), (50, 3)]\n",
    "lista_coisas2 = [(10, 5), (40, 4), (30, 6), (50, 3), (15, 5), (26, 4), (21, 6), (17, 3), (12, 2), (24, 3), (22, 6),\n",
    "                     (21, 3), (18, 2), (36, 4), (55, 9), (60, 7), (35, 6), (25, 12), (80, 9), (55, 15), (40, 15),\n",
    "                     (79, 19), (99, 25)]\n",
    "lista_coisas3 = [(10, 5), (40, 4), (30, 6), (50, 3), (15, 5), (26, 4), (21, 6), (17, 3), (12, 2), (24, 3), (22, 6),\n",
    "                     (21, 3), (18, 2), (36, 4), (55, 9), (60, 7), (35, 6), (25, 12), (80, 9), (55, 15), (40, 15),\n",
    "                     (79, 19), (99, 25), (100, 28), (105, 30), (110, 30), (112, 29), (120, 32), (124, 33), (130, 40),\n",
    "                     (131, 31), (129, 46), (150, 40), (155, 45), (170, 60), (169, 58)]\n",
    "lista_coisas4 = [(10, 5), (40, 4), (30, 6), (50, 3), (15, 5), (26, 4), (21, 6), (17, 3), (12, 2), (24, 3), (22, 6),\n",
    "                     (21, 3), (18, 2), (36, 4), (55, 9), (60, 7), (35, 6), (25, 12), (80, 9), (55, 15), (40, 15),\n",
    "                     (79, 19), (99, 25), (100, 28), (105, 30), (110, 30), (112, 29), (120, 32), (124, 33), (130, 40),\n",
    "                     (131, 31), (129, 46), (150, 40), (155, 45), (170, 60), (169, 58), (170, 60), (170, 60), (180, 65),\n",
    "                     (181, 62), (185, 70), (190, 80), (199, 85), (185, 75), (200, 100), (210, 105), (220, 106), (250, 120)]"
   ]
  },
  {
   "cell_type": "markdown",
   "id": "58873eb3",
   "metadata": {},
   "source": [
    "<div class=\"alert alert-block alert-warning\"><b>Sobre os testes: </b> Os testes consistem em executar o algoritmo com as mesmas entradas; sendo elas as 4 listas \"lista_coisasX\" e suas respectivas capacidades: 15, 40, 100, 130 </div>"
   ]
  },
  {
   "cell_type": "markdown",
   "id": "8ae3553a",
   "metadata": {},
   "source": [
    "<h4><center> Teste 1: </center></h4>"
   ]
  },
  {
   "cell_type": "markdown",
   "id": "5797becc",
   "metadata": {},
   "source": [
    "###### Algoritmo Recursivo:"
   ]
  },
  {
   "cell_type": "code",
   "execution_count": 8,
   "id": "9ab93b83",
   "metadata": {},
   "outputs": [
    {
     "name": "stdout",
     "output_type": "stream",
     "text": [
      "Resultado: 120\n",
      "Tempo gasto: 0.00015540000000013876s\n",
      "Pico de memória: 13081b\n"
     ]
    }
   ],
   "source": [
    "tracemalloc.start()\n",
    "start = timer()\n",
    "\n",
    "resultado = mochila_exponencial(15, lista_coisas, len(lista_coisas)-1)\n",
    "\n",
    "end = timer()\n",
    "_, pico1r = tracemalloc.get_traced_memory()\n",
    "tracemalloc.stop()\n",
    "\n",
    "t1r = end - start\n",
    "print(f\"Resultado: {resultado}\")\n",
    "print(f\"Tempo gasto: {t1r}s\")\n",
    "print(f\"Pico de memória: {pico1r}b\")"
   ]
  },
  {
   "cell_type": "markdown",
   "id": "32ad4e97",
   "metadata": {},
   "source": [
    "###### Algoritmo Memoizado:"
   ]
  },
  {
   "cell_type": "code",
   "execution_count": 9,
   "id": "b0a19ce4",
   "metadata": {},
   "outputs": [
    {
     "name": "stdout",
     "output_type": "stream",
     "text": [
      "Resultado: 120\n",
      "Tempo gasto: 0.00016160000000020602s\n",
      "Pico de memória: 13777b\n"
     ]
    }
   ],
   "source": [
    "mochila = MochilaMemo()\n",
    "tracemalloc.start()\n",
    "start = timer()\n",
    "\n",
    "resultado = mochila.resolve(15, lista_coisas, len(lista_coisas)-1)\n",
    "\n",
    "end = timer()\n",
    "_, pico1m = tracemalloc.get_traced_memory()\n",
    "tracemalloc.stop()\n",
    "\n",
    "t1m = end - start\n",
    "print(f\"Resultado: {resultado}\")\n",
    "print(f\"Tempo gasto: {t1m}s\")\n",
    "print(f\"Pico de memória: {pico1m}b\")"
   ]
  },
  {
   "cell_type": "markdown",
   "id": "20a042e9",
   "metadata": {},
   "source": [
    "###### Algoritmo de Programação Dinâmica:"
   ]
  },
  {
   "cell_type": "code",
   "execution_count": 10,
   "id": "940dd952",
   "metadata": {},
   "outputs": [
    {
     "name": "stdout",
     "output_type": "stream",
     "text": [
      "Resultado: 120.0\n",
      "Tempo gasto: 0.0005406999999997275s\n",
      "Pico de memória: 13153b\n"
     ]
    }
   ],
   "source": [
    "mochila = MochilaPD()\n",
    "tracemalloc.start()\n",
    "start = timer()\n",
    "\n",
    "mochila.resolve(15, lista_coisas)\n",
    "\n",
    "end = timer()\n",
    "_, pico1p = tracemalloc.get_traced_memory()\n",
    "tracemalloc.stop()\n",
    "\n",
    "t1p = end - start\n",
    "print(f\"Resultado: {mochila.resposta}\")\n",
    "print(f\"Tempo gasto: {t1p}s\")\n",
    "print(f\"Pico de memória: {pico1p}b\")"
   ]
  },
  {
   "cell_type": "markdown",
   "id": "c6dd0e93",
   "metadata": {},
   "source": [
    "###### Algoritmo de Aproximação:"
   ]
  },
  {
   "cell_type": "code",
   "execution_count": 11,
   "id": "b5d4c355",
   "metadata": {},
   "outputs": [
    {
     "name": "stdout",
     "output_type": "stream",
     "text": [
      "ε = 0.15\n",
      "Resultado: 48.0\n",
      "Tempo gasto: 0.001395500000000105s\n",
      "Pico de memória: 161784b\n"
     ]
    }
   ],
   "source": [
    "mochila = MochilaA()\n",
    "tracemalloc.start()\n",
    "start = timer()\n",
    "\n",
    "mochila.resolve(15, lista_coisas)\n",
    "\n",
    "end = timer()\n",
    "_, pico1a = tracemalloc.get_traced_memory()\n",
    "tracemalloc.stop()\n",
    "\n",
    "t1a = end - start\n",
    "print(f\"Resultado: {mochila.resposta}\")\n",
    "print(f\"Tempo gasto: {t1a}s\")\n",
    "print(f\"Pico de memória: {pico1a}b\")"
   ]
  },
  {
   "cell_type": "markdown",
   "id": "d370cecd",
   "metadata": {},
   "source": [
    "<h4><center> Teste 2: </center></h4>"
   ]
  },
  {
   "cell_type": "markdown",
   "id": "ac1533a7",
   "metadata": {},
   "source": [
    "###### Algoritmo Recursivo:"
   ]
  },
  {
   "cell_type": "code",
   "execution_count": 12,
   "id": "01c8f36a",
   "metadata": {},
   "outputs": [
    {
     "name": "stdout",
     "output_type": "stream",
     "text": [
      "Resultado: 358\n",
      "Tempo gasto: 0.25971199999999994s\n",
      "Pico de memória: 171083b\n"
     ]
    }
   ],
   "source": [
    "tracemalloc.start()\n",
    "start = timer()\n",
    "\n",
    "resultado = mochila_exponencial(40, lista_coisas2, len(lista_coisas2)-1)\n",
    "\n",
    "end = timer()\n",
    "_, pico2r = tracemalloc.get_traced_memory()\n",
    "tracemalloc.stop()\n",
    "\n",
    "t2r = end - start\n",
    "print(f\"Resultado: {resultado}\")\n",
    "print(f\"Tempo gasto: {t2r}s\")\n",
    "print(f\"Pico de memória: {pico2r}b\")"
   ]
  },
  {
   "cell_type": "markdown",
   "id": "06adcc29",
   "metadata": {},
   "source": [
    "###### Algoritmo Memoizado:"
   ]
  },
  {
   "cell_type": "code",
   "execution_count": 13,
   "id": "081ef405",
   "metadata": {},
   "outputs": [
    {
     "name": "stdout",
     "output_type": "stream",
     "text": [
      "Resultado: 358\n",
      "Tempo gasto: 0.0018913000000000402s\n",
      "Pico de memória: 40906b\n"
     ]
    }
   ],
   "source": [
    "mochila = MochilaMemo()\n",
    "tracemalloc.start()\n",
    "start = timer()\n",
    "\n",
    "resultado = mochila.resolve(40, lista_coisas2, len(lista_coisas2)-1)\n",
    "\n",
    "end = timer()\n",
    "_, pico2m = tracemalloc.get_traced_memory()\n",
    "tracemalloc.stop()\n",
    "\n",
    "t2m = end - start\n",
    "print(f\"Resultado: {resultado}\")\n",
    "print(f\"Tempo gasto: {t2m}s\")\n",
    "print(f\"Pico de memória: {pico2m}b\")"
   ]
  },
  {
   "cell_type": "markdown",
   "id": "d5ed8b52",
   "metadata": {},
   "source": [
    "###### Algoritmo de Programação Dinâmica:"
   ]
  },
  {
   "cell_type": "code",
   "execution_count": 14,
   "id": "f3e49845",
   "metadata": {},
   "outputs": [
    {
     "name": "stdout",
     "output_type": "stream",
     "text": [
      "Resultado: 358.0\n",
      "Tempo gasto: 0.006382899999999747s\n",
      "Pico de memória: 18809b\n"
     ]
    }
   ],
   "source": [
    "mochila = MochilaPD()\n",
    "tracemalloc.start()\n",
    "start = timer()\n",
    "\n",
    "mochila.resolve(40, lista_coisas2)\n",
    "\n",
    "end = timer()\n",
    "_, pico2p = tracemalloc.get_traced_memory()\n",
    "tracemalloc.stop()\n",
    "\n",
    "t2p = end - start\n",
    "print(f\"Resultado: {mochila.resposta}\")\n",
    "print(f\"Tempo gasto: {t2p}s\")\n",
    "print(f\"Pico de memória: {pico2p}b\")"
   ]
  },
  {
   "cell_type": "markdown",
   "id": "89b94fb1",
   "metadata": {},
   "source": [
    "###### Algoritmo de Aproximação:"
   ]
  },
  {
   "cell_type": "code",
   "execution_count": 15,
   "id": "c7ae94ce",
   "metadata": {},
   "outputs": [
    {
     "name": "stdout",
     "output_type": "stream",
     "text": [
      "ε = 0.15\n",
      "Resultado: 526.0\n",
      "Tempo gasto: 0.0064462000000000685s\n",
      "Pico de memória: 168518b\n"
     ]
    }
   ],
   "source": [
    "mochila = MochilaA()\n",
    "tracemalloc.start()\n",
    "start = timer()\n",
    "\n",
    "mochila.resolve(40, lista_coisas2)\n",
    "\n",
    "end = timer()\n",
    "_, pico2a = tracemalloc.get_traced_memory()\n",
    "tracemalloc.stop()\n",
    "\n",
    "t2a = end - start\n",
    "print(f\"Resultado: {mochila.resposta}\")\n",
    "print(f\"Tempo gasto: {t2a}s\")\n",
    "print(f\"Pico de memória: {pico2a}b\")"
   ]
  },
  {
   "cell_type": "markdown",
   "id": "01848d01",
   "metadata": {},
   "source": [
    "<h4><center> Teste 3: </center></h4>"
   ]
  },
  {
   "cell_type": "markdown",
   "id": "89f22904",
   "metadata": {},
   "source": [
    "###### Algoritmo Recursivo:"
   ]
  },
  {
   "cell_type": "code",
   "execution_count": 16,
   "id": "cdd34f1a",
   "metadata": {},
   "outputs": [
    {
     "name": "stdout",
     "output_type": "stream",
     "text": [
      "Resultado: 645\n",
      "Tempo gasto: 31.3377178s\n",
      "Pico de memória: 167574b\n"
     ]
    }
   ],
   "source": [
    "tracemalloc.start()\n",
    "start = timer()\n",
    "\n",
    "resultado = mochila_exponencial(100, lista_coisas3, len(lista_coisas3)-1)\n",
    "\n",
    "end = timer()\n",
    "_, pico3r = tracemalloc.get_traced_memory()\n",
    "tracemalloc.stop()\n",
    "\n",
    "t3r = end - start\n",
    "print(f\"Resultado: {resultado}\")\n",
    "print(f\"Tempo gasto: {t3r}s\")\n",
    "print(f\"Pico de memória: {pico3r}b\")"
   ]
  },
  {
   "cell_type": "markdown",
   "id": "dbac6901",
   "metadata": {},
   "source": [
    "###### Algoritmo Memoizado:"
   ]
  },
  {
   "cell_type": "code",
   "execution_count": 17,
   "id": "c3f2527a",
   "metadata": {},
   "outputs": [
    {
     "name": "stdout",
     "output_type": "stream",
     "text": [
      "Resultado: 645\n",
      "Tempo gasto: 0.006835600000002273s\n",
      "Pico de memória: 151009b\n"
     ]
    }
   ],
   "source": [
    "mochila = MochilaMemo()\n",
    "tracemalloc.start()\n",
    "start = timer()\n",
    "\n",
    "resultado = mochila.resolve(100, lista_coisas3, len(lista_coisas3)-1)\n",
    "\n",
    "end = timer()\n",
    "_, pico3m = tracemalloc.get_traced_memory()\n",
    "tracemalloc.stop()\n",
    "\n",
    "t3m = end - start\n",
    "print(f\"Resultado: {resultado}\")\n",
    "print(f\"Tempo gasto: {t3m}s\")\n",
    "print(f\"Pico de memória: {pico3m}b\")"
   ]
  },
  {
   "cell_type": "markdown",
   "id": "6c29db81",
   "metadata": {},
   "source": [
    "###### Algoritmo de Programação Dinâmica:"
   ]
  },
  {
   "cell_type": "code",
   "execution_count": 18,
   "id": "ab7aad41",
   "metadata": {},
   "outputs": [
    {
     "name": "stdout",
     "output_type": "stream",
     "text": [
      "Resultado: 645.0\n",
      "Tempo gasto: 0.0224347999999992s\n",
      "Pico de memória: 187936b\n"
     ]
    }
   ],
   "source": [
    "mochila = MochilaPD()\n",
    "tracemalloc.start()\n",
    "start = timer()\n",
    "\n",
    "mochila.resolve(100, lista_coisas3)\n",
    "\n",
    "end = timer()\n",
    "_, pico3p = tracemalloc.get_traced_memory()\n",
    "tracemalloc.stop()\n",
    "\n",
    "t3p = end - start\n",
    "print(f\"Resultado: {mochila.resposta}\")\n",
    "print(f\"Tempo gasto: {t3p}s\")\n",
    "print(f\"Pico de memória: {pico3p}b\")"
   ]
  },
  {
   "cell_type": "markdown",
   "id": "73bd7327",
   "metadata": {},
   "source": [
    "###### Algoritmo de Aproximação:"
   ]
  },
  {
   "cell_type": "code",
   "execution_count": 19,
   "id": "ea10a287",
   "metadata": {},
   "outputs": [
    {
     "name": "stdout",
     "output_type": "stream",
     "text": [
      "ε = 0.15\n",
      "Resultado: 877.0\n",
      "Tempo gasto: 0.02246290000000073s\n",
      "Pico de memória: 189178b\n"
     ]
    }
   ],
   "source": [
    "mochila = MochilaA()\n",
    "tracemalloc.start()\n",
    "start = timer()\n",
    "\n",
    "mochila.resolve(100, lista_coisas3)\n",
    "\n",
    "end = timer()\n",
    "_, pico3a = tracemalloc.get_traced_memory()\n",
    "tracemalloc.stop()\n",
    "\n",
    "t3a = end - start\n",
    "print(f\"Resultado: {mochila.resposta}\")\n",
    "print(f\"Tempo gasto: {t3a}s\")\n",
    "print(f\"Pico de memória: {pico3a}b\")"
   ]
  },
  {
   "cell_type": "markdown",
   "id": "96061a9c",
   "metadata": {},
   "source": [
    "<h4><center> Teste 4: </center></h4>"
   ]
  },
  {
   "cell_type": "markdown",
   "id": "06fe29e5",
   "metadata": {},
   "source": [
    "###### Algoritmo Recursivo:"
   ]
  },
  {
   "cell_type": "code",
   "execution_count": 20,
   "id": "3ec31802",
   "metadata": {},
   "outputs": [
    {
     "name": "stdout",
     "output_type": "stream",
     "text": [
      "Resultado: 769\n",
      "Tempo gasto: 178.70858339999998s\n",
      "Pico de memória: 178176b\n"
     ]
    }
   ],
   "source": [
    "tracemalloc.start()\n",
    "start = timer()\n",
    "\n",
    "resultado = mochila_exponencial(130, lista_coisas4, len(lista_coisas4)-1)\n",
    "\n",
    "end = timer()\n",
    "_, pico4r = tracemalloc.get_traced_memory()\n",
    "tracemalloc.stop()\n",
    "\n",
    "t4r = end - start\n",
    "print(f\"Resultado: {resultado}\")\n",
    "print(f\"Tempo gasto: {t4r}s\")\n",
    "print(f\"Pico de memória: {pico4r}b\")"
   ]
  },
  {
   "cell_type": "markdown",
   "id": "1ee85843",
   "metadata": {},
   "source": [
    "###### Algoritmo Memoizado:"
   ]
  },
  {
   "cell_type": "code",
   "execution_count": 21,
   "id": "545fcbde",
   "metadata": {},
   "outputs": [
    {
     "name": "stdout",
     "output_type": "stream",
     "text": [
      "Resultado: 769\n",
      "Tempo gasto: 0.012683699999996634s\n",
      "Pico de memória: 305445b\n"
     ]
    }
   ],
   "source": [
    "mochila = MochilaMemo()\n",
    "tracemalloc.start()\n",
    "start = timer()\n",
    "\n",
    "resultado = mochila.resolve(130, lista_coisas4, len(lista_coisas4)-1)\n",
    "\n",
    "end = timer()\n",
    "_, pico4m = tracemalloc.get_traced_memory()\n",
    "tracemalloc.stop()\n",
    "\n",
    "t4m = end - start\n",
    "print(f\"Resultado: {resultado}\")\n",
    "print(f\"Tempo gasto: {t4m}s\")\n",
    "print(f\"Pico de memória: {pico4m}b\")"
   ]
  },
  {
   "cell_type": "markdown",
   "id": "bc0d59cf",
   "metadata": {},
   "source": [
    "###### Algoritmo de Programação Dinâmica:"
   ]
  },
  {
   "cell_type": "code",
   "execution_count": 22,
   "id": "fcded7fc",
   "metadata": {},
   "outputs": [
    {
     "name": "stdout",
     "output_type": "stream",
     "text": [
      "Resultado: 769.0\n",
      "Tempo gasto: 0.03366089999997257s\n",
      "Pico de memória: 62001b\n"
     ]
    }
   ],
   "source": [
    "mochila = MochilaPD()\n",
    "tracemalloc.start()\n",
    "start = timer()\n",
    "\n",
    "mochila.resolve(130, lista_coisas4)\n",
    "\n",
    "end = timer()\n",
    "_, pico4p = tracemalloc.get_traced_memory()\n",
    "tracemalloc.stop()\n",
    "\n",
    "t4p = end - start\n",
    "print(f\"Resultado: {mochila.resposta}\")\n",
    "print(f\"Tempo gasto: {t4p}s\")\n",
    "print(f\"Pico de memória: {pico4p}b\")"
   ]
  },
  {
   "cell_type": "markdown",
   "id": "d780d076",
   "metadata": {},
   "source": [
    "###### Algoritmo de Aproximação:"
   ]
  },
  {
   "cell_type": "code",
   "execution_count": 23,
   "id": "a039f1bd",
   "metadata": {},
   "outputs": [
    {
     "name": "stdout",
     "output_type": "stream",
     "text": [
      "ε = 0.15\n",
      "Resultado: 957.0\n",
      "Tempo gasto: 0.03553740000000971s\n",
      "Pico de memória: 210823b\n"
     ]
    }
   ],
   "source": [
    "mochila = MochilaA()\n",
    "tracemalloc.start()\n",
    "start = timer()\n",
    "\n",
    "mochila.resolve(130, lista_coisas4)\n",
    "\n",
    "end = timer()\n",
    "_, pico4a = tracemalloc.get_traced_memory()\n",
    "tracemalloc.stop()\n",
    "\n",
    "t4a = end - start\n",
    "print(f\"Resultado: {mochila.resposta}\")\n",
    "print(f\"Tempo gasto: {t4a}s\")\n",
    "print(f\"Pico de memória: {pico4a}b\")"
   ]
  },
  {
   "cell_type": "markdown",
   "id": "be6c3e6f",
   "metadata": {},
   "source": [
    "<h2><center> Análise Gráfica e Conclusão: </center></h2>"
   ]
  },
  {
   "cell_type": "markdown",
   "id": "68aac355",
   "metadata": {},
   "source": [
    "<div class=\"alert alert-block alert-warning\"><b>Sobre o tamanho da entrada: </b> Como a entrada consiste de dois elementos (a lista de coisas e a capacidade da mochila), consideraremos como tamanho de entrada cada um dos 4 testes. </div>"
   ]
  },
  {
   "cell_type": "markdown",
   "id": "920eac5a",
   "metadata": {},
   "source": [
    "<h3><center> Testes Individuais: </center></h3>"
   ]
  },
  {
   "cell_type": "markdown",
   "id": "331458e1",
   "metadata": {},
   "source": [
    "### Crescimento do Algoritmo Recursivo, de acordo com o crescimento da entrada:"
   ]
  },
  {
   "cell_type": "markdown",
   "id": "660c955d",
   "metadata": {},
   "source": [
    "###### Memória:"
   ]
  },
  {
   "cell_type": "code",
   "execution_count": 36,
   "id": "6d15f3bb",
   "metadata": {
    "scrolled": true
   },
   "outputs": [
    {
     "data": {
      "image/png": "[encoded data removed]",
      "text/plain": [
       "<Figure size 432x288 with 1 Axes>"
      ]
     },
     "metadata": {
      "needs_background": "light"
     },
     "output_type": "display_data"
    }
   ],
   "source": [
    "plt.bar([1, 2, 3, 4], [pico1r, pico2r, pico3r, pico4r])\n",
    "plt.ylabel('Pico de Memória (bytes)')\n",
    "plt.xlabel('Testes')\n",
    "plt.show()"
   ]
  },
  {
   "cell_type": "markdown",
   "id": "aff0db9d",
   "metadata": {},
   "source": [
    "Houve um crescimento notável no terceiro e quarto teste, onde não só o tamanho da lista de coisas cresce, mas também a capacidade da mochila, o que faz com que a pilha de recursão cresca considerávelmente."
   ]
  },
  {
   "cell_type": "markdown",
   "id": "e3f6b921",
   "metadata": {},
   "source": [
    "###### Tempo:"
   ]
  },
  {
   "cell_type": "code",
   "execution_count": 25,
   "id": "7c1fb042",
   "metadata": {},
   "outputs": [
    {
     "data": {
      "image/png": "[encoded data removed]",
      "text/plain": [
       "<Figure size 432x288 with 1 Axes>"
      ]
     },
     "metadata": {
      "needs_background": "light"
     },
     "output_type": "display_data"
    }
   ],
   "source": [
    "plt.plot([1, 2, 3, 4], [t1r, t2r, t3r, t4r])\n",
    "plt.ylabel('Tempo gasto (segundos)')\n",
    "plt.xlabel('Testes')\n",
    "plt.show()"
   ]
  },
  {
   "cell_type": "markdown",
   "id": "8fa2083f",
   "metadata": {},
   "source": [
    "É insteressante notar que, mesmo no o terceiro teste, o tempo é próximo do tempo nos testes 1 e 2. É só no quarto e maior teste que o tempo gasto dispara considerávelmente, o que exemplifica a característica do custo exponencial do algoritmo."
   ]
  },
  {
   "cell_type": "markdown",
   "id": "1a9d4192",
   "metadata": {},
   "source": [
    "### Crescimento do Algoritmo Memoizado, de acordo com o crescimento da entrada:"
   ]
  },
  {
   "cell_type": "markdown",
   "id": "9d1adb55",
   "metadata": {},
   "source": [
    "###### Memória:"
   ]
  },
  {
   "cell_type": "code",
   "execution_count": 37,
   "id": "afc66576",
   "metadata": {
    "scrolled": true
   },
   "outputs": [
    {
     "data": {
      "image/png": "[encoded data removed]",
      "text/plain": [
       "<Figure size 432x288 with 1 Axes>"
      ]
     },
     "metadata": {
      "needs_background": "light"
     },
     "output_type": "display_data"
    }
   ],
   "source": [
    "plt.bar([1, 2, 3, 4], [pico1m, pico2m, pico3m, pico4m])\n",
    "plt.ylabel('Pico de Memória (bytes)')\n",
    "plt.xlabel('Testes')\n",
    "plt.show()"
   ]
  },
  {
   "cell_type": "markdown",
   "id": "2bc164d3",
   "metadata": {},
   "source": [
    "Houve um salto tão grande no quarto teste (67513727b apresentados em uma das execuções), que é difícil comparar com os outros. Ainda, é de se esperaro que custo em memória desse algoritmo seja, naturalmente, muito mais alto que o dos outros, por conta da estrutura de dados \"dicionário\"."
   ]
  },
  {
   "cell_type": "markdown",
   "id": "95ee1a4b",
   "metadata": {},
   "source": [
    "###### Tempo:"
   ]
  },
  {
   "cell_type": "code",
   "execution_count": 27,
   "id": "7a56a2ab",
   "metadata": {},
   "outputs": [
    {
     "data": {
      "image/png": "[encoded data removed]",
      "text/plain": [
       "<Figure size 432x288 with 1 Axes>"
      ]
     },
     "metadata": {
      "needs_background": "light"
     },
     "output_type": "display_data"
    }
   ],
   "source": [
    "plt.plot([1, 2, 3, 4], [t1m, t2m, t3m, t4m])\n",
    "plt.ylabel('Tempo gasto (segundos)')\n",
    "plt.xlabel('Testes')\n",
    "plt.show()"
   ]
  },
  {
   "cell_type": "markdown",
   "id": "0f65f09f",
   "metadata": {},
   "source": [
    "O algoritmo apresenta um crescimento brando e quase linear para os três primeiros testes. Entretanto, no teste 4 o tempo consumido é astronomicamente maior,"
   ]
  },
  {
   "cell_type": "markdown",
   "id": "115a298a",
   "metadata": {},
   "source": [
    "### Crescimento do Algoritmo de Programação Dinâmica, de acordo com o crescimento da entrada:"
   ]
  },
  {
   "cell_type": "markdown",
   "id": "aa38a55a",
   "metadata": {},
   "source": [
    "###### Memória:"
   ]
  },
  {
   "cell_type": "code",
   "execution_count": 35,
   "id": "2f0b05da",
   "metadata": {
    "scrolled": true
   },
   "outputs": [
    {
     "data": {
      "image/png": "[encoded data removed]",
      "text/plain": [
       "<Figure size 432x288 with 1 Axes>"
      ]
     },
     "metadata": {
      "needs_background": "light"
     },
     "output_type": "display_data"
    }
   ],
   "source": [
    "plt.bar([1, 2, 3, 4], [pico1p, pico2p, pico3p, pico4p])\n",
    "\n",
    "plt.ylabel('Pico de Memória (bytes)')\n",
    "plt.xlabel('Testes')\n",
    "plt.show()"
   ]
  },
  {
   "cell_type": "markdown",
   "id": "7a3ffeb6",
   "metadata": {},
   "source": [
    "Houve um crescimento notável no quarto teste"
   ]
  },
  {
   "cell_type": "markdown",
   "id": "8f0ad229",
   "metadata": {},
   "source": [
    "###### Tempo:"
   ]
  },
  {
   "cell_type": "code",
   "execution_count": 29,
   "id": "23e89b4a",
   "metadata": {},
   "outputs": [
    {
     "data": {
      "image/png": "[encoded data removed]",
      "text/plain": [
       "<Figure size 432x288 with 1 Axes>"
      ]
     },
     "metadata": {
      "needs_background": "light"
     },
     "output_type": "display_data"
    }
   ],
   "source": [
    "plt.plot([1, 2, 3, 4], [t1p, t2p, t3p, t4p])\n",
    "plt.ylabel('Tempo gasto (segundos)')\n",
    "plt.xlabel('Testes')\n",
    "plt.show()"
   ]
  },
  {
   "cell_type": "markdown",
   "id": "38562deb",
   "metadata": {},
   "source": [
    "Conclusao"
   ]
  },
  {
   "cell_type": "markdown",
   "id": "e8124290",
   "metadata": {},
   "source": [
    "### Crescimento do Algoritmo de Aproximação, de acordo com o crescimento da entrada:"
   ]
  },
  {
   "cell_type": "markdown",
   "id": "8fadf1f5",
   "metadata": {},
   "source": [
    "###### Memória:"
   ]
  },
  {
   "cell_type": "code",
   "execution_count": 38,
   "id": "0231d697",
   "metadata": {
    "scrolled": true
   },
   "outputs": [
    {
     "data": {
      "image/png": "[encoded data removed]",
      "text/plain": [
       "<Figure size 432x288 with 1 Axes>"
      ]
     },
     "metadata": {
      "needs_background": "light"
     },
     "output_type": "display_data"
    }
   ],
   "source": [
    "plt.bar([1, 2, 3, 4], [pico1a, pico2a, pico3a, pico4a])\n",
    "plt.ylabel('Pico de Memória (bytes)')\n",
    "plt.xlabel('Testes')\n",
    "plt.show()"
   ]
  },
  {
   "cell_type": "markdown",
   "id": "96d12c44",
   "metadata": {},
   "source": [
    "Houve um crescimento notável no quarto teste"
   ]
  },
  {
   "cell_type": "markdown",
   "id": "b3590282",
   "metadata": {},
   "source": [
    "###### Tempo:"
   ]
  },
  {
   "cell_type": "code",
   "execution_count": 31,
   "id": "fb7aaff0",
   "metadata": {},
   "outputs": [
    {
     "data": {
      "image/png": "[encoded data removed]",
      "text/plain": [
       "<Figure size 432x288 with 1 Axes>"
      ]
     },
     "metadata": {
      "needs_background": "light"
     },
     "output_type": "display_data"
    }
   ],
   "source": [
    "plt.plot([1, 2, 3, 4], [t1a, t2a, t3a, t4a])\n",
    "plt.ylabel('Tempo gasto (segundos)')\n",
    "plt.xlabel('Testes')\n",
    "plt.show()"
   ]
  },
  {
   "cell_type": "markdown",
   "id": "b6c846d6",
   "metadata": {},
   "source": [
    "Conclusao"
   ]
  },
  {
   "cell_type": "markdown",
   "id": "e52ab7d7",
   "metadata": {},
   "source": [
    "<h3><center> Testes Coletivos: </center></h3>"
   ]
  },
  {
   "cell_type": "markdown",
   "id": "1b68fd00",
   "metadata": {},
   "source": [
    "## Comparativo 1"
   ]
  },
  {
   "cell_type": "markdown",
   "id": "552e3b73",
   "metadata": {},
   "source": [
    "###  Análise de Tempo e Memória em detrimento do tamanho da entrada para os três primeiros algoritmos."
   ]
  },
  {
   "cell_type": "markdown",
   "id": "d31af8f9",
   "metadata": {},
   "source": [
    "<h3><center> Teste 1: </center></h3>"
   ]
  },
  {
   "cell_type": "code",
   "execution_count": 41,
   "id": "39d704f6",
   "metadata": {},
   "outputs": [
    {
     "data": {
      "image/png": "[encoded data removed]",
      "text/plain": [
       "<Figure size 432x288 with 1 Axes>"
      ]
     },
     "metadata": {
      "needs_background": "light"
     },
     "output_type": "display_data"
    }
   ],
   "source": [
    "plt.bar(['Recursivo', 'Memo', 'PD'], [t1r*1000, t1m*1000, t1p*1000])\n",
    "plt.ylabel('Tempo gasto (ms)')\n",
    "plt.xlabel('Testes')\n",
    "plt.title('Tempo X Tamanho da Entrada')\n",
    "plt.show()"
   ]
  },
  {
   "cell_type": "code",
   "execution_count": 42,
   "id": "d039728c",
   "metadata": {},
   "outputs": [
    {
     "data": {
      "image/png": "[encoded data removed]",
      "text/plain": [
       "<Figure size 432x288 with 1 Axes>"
      ]
     },
     "metadata": {
      "needs_background": "light"
     },
     "output_type": "display_data"
    }
   ],
   "source": [
    "plt.bar(['Recursivo', 'Memo', 'PD'], [pico1r, pico1m, pico1p])\n",
    "plt.ylabel('Memória em bytes')\n",
    "plt.xlabel('Testes')\n",
    "plt.title('Pico de Memória X Tamanho da Entrada')\n",
    "plt.show()"
   ]
  },
  {
   "cell_type": "markdown",
   "id": "3d65933a",
   "metadata": {},
   "source": [
    "<h4><center> Conclusão: </center></h4>"
   ]
  },
  {
   "cell_type": "markdown",
   "id": "8fdae79e",
   "metadata": {},
   "source": []
  },
  {
   "cell_type": "markdown",
   "id": "50a958f3",
   "metadata": {},
   "source": [
    "<h3><center> Teste 2: </center></h3>"
   ]
  },
  {
   "cell_type": "code",
   "execution_count": 43,
   "id": "784d9e05",
   "metadata": {},
   "outputs": [
    {
     "data": {
      "image/png": "[encoded data removed]",
      "text/plain": [
       "<Figure size 432x288 with 1 Axes>"
      ]
     },
     "metadata": {
      "needs_background": "light"
     },
     "output_type": "display_data"
    }
   ],
   "source": [
    "plt.bar(['Recursivo', 'Memo', 'PD'], [t2r*1000, t2m*1000, t2p*1000])\n",
    "plt.ylabel('Tempo gasto (ms)')\n",
    "plt.xlabel('Testes')\n",
    "plt.title('Tempo X Tamanho da Entrada')\n",
    "plt.show()"
   ]
  },
  {
   "cell_type": "code",
   "execution_count": 44,
   "id": "d91bacee",
   "metadata": {},
   "outputs": [
    {
     "data": {
      "image/png": "[encoded data removed]",
      "text/plain": [
       "<Figure size 432x288 with 1 Axes>"
      ]
     },
     "metadata": {
      "needs_background": "light"
     },
     "output_type": "display_data"
    }
   ],
   "source": [
    "plt.bar(['Recursivo', 'Memo', 'PD'], [pico2r, pico2m, pico2p])\n",
    "plt.ylabel('Memória em bytes')\n",
    "plt.xlabel('Testes')\n",
    "plt.title('Pico de Memória X Tamanho da Entrada')\n",
    "plt.show()"
   ]
  },
  {
   "cell_type": "markdown",
   "id": "cd4ae542",
   "metadata": {},
   "source": [
    "<h4><center> Conclusão: </center></h4>"
   ]
  },
  {
   "cell_type": "markdown",
   "id": "614c54bb",
   "metadata": {},
   "source": []
  },
  {
   "cell_type": "markdown",
   "id": "282f5efa",
   "metadata": {},
   "source": [
    "<h3><center> Teste 3: </center></h3>"
   ]
  },
  {
   "cell_type": "code",
   "execution_count": 45,
   "id": "2b287712",
   "metadata": {},
   "outputs": [
    {
     "data": {
      "image/png": "[encoded data removed]",
      "text/plain": [
       "<Figure size 432x288 with 1 Axes>"
      ]
     },
     "metadata": {
      "needs_background": "light"
     },
     "output_type": "display_data"
    }
   ],
   "source": [
    "plt.bar(['Recursivo', 'Memo', 'PD'], [t3r, t1m, t1p])\n",
    "plt.ylabel('Tempo gasto (s)')\n",
    "plt.xlabel('Testes')\n",
    "plt.title('Tempo X Tamanho da Entrada')\n",
    "plt.show()"
   ]
  },
  {
   "cell_type": "code",
   "execution_count": 50,
   "id": "812bf32d",
   "metadata": {},
   "outputs": [
    {
     "data": {
      "image/png": "[encoded data removed]",
      "text/plain": [
       "<Figure size 432x288 with 1 Axes>"
      ]
     },
     "metadata": {
      "needs_background": "light"
     },
     "output_type": "display_data"
    }
   ],
   "source": [
    "plt.bar(['Memo', 'PD'], [t3m*1000, t3p*1000])\n",
    "plt.ylabel('Tempo gasto (ms)')\n",
    "plt.xlabel('Testes')\n",
    "plt.title('Tempo X Tamanho da Entrada')\n",
    "plt.show()"
   ]
  },
  {
   "cell_type": "code",
   "execution_count": 48,
   "id": "a53f8b21",
   "metadata": {},
   "outputs": [
    {
     "data": {
      "image/png": "[encoded data removed]",
      "text/plain": [
       "<Figure size 432x288 with 1 Axes>"
      ]
     },
     "metadata": {
      "needs_background": "light"
     },
     "output_type": "display_data"
    }
   ],
   "source": [
    "plt.bar(['Recursivo', 'Memo', 'PD'], [pico3r, pico3m, pico3p])\n",
    "plt.ylabel('Memória em bytes')\n",
    "plt.xlabel('Testes')\n",
    "plt.title('Pico de Memória X Tamanho da Entrada')\n",
    "plt.show()"
   ]
  },
  {
   "cell_type": "markdown",
   "id": "27383f5a",
   "metadata": {},
   "source": [
    "<h4><center> Conclusão: </center></h4>"
   ]
  },
  {
   "cell_type": "markdown",
   "id": "e534a408",
   "metadata": {},
   "source": []
  },
  {
   "cell_type": "markdown",
   "id": "586ef351",
   "metadata": {},
   "source": [
    "<h3><center> Teste 4: </center></h3>"
   ]
  },
  {
   "cell_type": "code",
   "execution_count": 49,
   "id": "9dab6e95",
   "metadata": {},
   "outputs": [
    {
     "data": {
      "image/png": "[encoded data removed]",
      "text/plain": [
       "<Figure size 432x288 with 1 Axes>"
      ]
     },
     "metadata": {
      "needs_background": "light"
     },
     "output_type": "display_data"
    }
   ],
   "source": [
    "plt.bar(['Recursivo', 'Memo', 'PD'], [t4r, t4m, t4p])\n",
    "plt.ylabel('Tempo gasto (s)')\n",
    "plt.xlabel('Testes')\n",
    "plt.title('Tempo X Tamanho da Entrada')\n",
    "plt.show()"
   ]
  },
  {
   "cell_type": "code",
   "execution_count": 51,
   "id": "21805ad9",
   "metadata": {},
   "outputs": [
    {
     "data": {
      "image/png": "[encoded data removed]",
      "text/plain": [
       "<Figure size 432x288 with 1 Axes>"
      ]
     },
     "metadata": {
      "needs_background": "light"
     },
     "output_type": "display_data"
    }
   ],
   "source": [
    "plt.bar(['Memo', 'PD'], [t4m*1000, t4p*1000])\n",
    "plt.ylabel('Tempo gasto (ms)')\n",
    "plt.xlabel('Testes')\n",
    "plt.title('Tempo X Tamanho da Entrada')\n",
    "plt.show()"
   ]
  },
  {
   "cell_type": "code",
   "execution_count": 52,
   "id": "1d1abb70",
   "metadata": {},
   "outputs": [
    {
     "data": {
      "image/png": "[encoded data removed]",
      "text/plain": [
       "<Figure size 432x288 with 1 Axes>"
      ]
     },
     "metadata": {
      "needs_background": "light"
     },
     "output_type": "display_data"
    }
   ],
   "source": [
    "plt.bar(['Recursivo', 'Memo', 'PD'], [pico4r, pico4m, pico4p])\n",
    "plt.ylabel('Memória em bytes')\n",
    "plt.xlabel('Testes')\n",
    "plt.title('Pico de Memória X Tamanho da Entrada')\n",
    "plt.show()"
   ]
  },
  {
   "cell_type": "markdown",
   "id": "7bdf6bed",
   "metadata": {},
   "source": [
    "<h4><center> Conclusão: </center></h4>"
   ]
  },
  {
   "cell_type": "markdown",
   "id": "8f34aa6c",
   "metadata": {},
   "source": []
  },
  {
   "cell_type": "markdown",
   "id": "dacaf550",
   "metadata": {},
   "source": [
    "### Conclusão do Comparativo 1:"
   ]
  },
  {
   "cell_type": "markdown",
   "id": "5f6d432a",
   "metadata": {},
   "source": []
  },
  {
   "cell_type": "markdown",
   "id": "07b1a71f",
   "metadata": {},
   "source": [
    "## Comparativo 2"
   ]
  },
  {
   "cell_type": "markdown",
   "id": "75e6d6c6",
   "metadata": {},
   "source": [
    "<h2><center> Testes de Corretude: </center></h2>"
   ]
  },
  {
   "cell_type": "markdown",
   "id": "5bc11bfe",
   "metadata": {},
   "source": [
    "<div class=\"alert alert-block alert-warning\"><b>Metodologia: </b> Os testes consistem em executar os algoritmos de Programação Dinâmica e de Aproximação com a mesma entrada (a maior entrada utilizda nos testes), e então avaliar, dentre outras coisas, a corretude da aproximação ao variar o valor de \"ε\"</div>"
   ]
  },
  {
   "cell_type": "markdown",
   "id": "2c2c3634",
   "metadata": {},
   "source": [
    "<h4><center> ε = 0,2 </center></h4>"
   ]
  },
  {
   "cell_type": "code",
   "execution_count": null,
   "id": "933c1dc5",
   "metadata": {},
   "outputs": [],
   "source": []
  },
  {
   "cell_type": "markdown",
   "id": "f3bf488d",
   "metadata": {},
   "source": [
    "<h4><center> ε = 0,4 </center></h4>"
   ]
  },
  {
   "cell_type": "code",
   "execution_count": null,
   "id": "92162bfc",
   "metadata": {},
   "outputs": [],
   "source": []
  },
  {
   "cell_type": "markdown",
   "id": "a7b597ef",
   "metadata": {},
   "source": [
    "<h4><center> ε = 0,6 </center></h4>"
   ]
  },
  {
   "cell_type": "code",
   "execution_count": null,
   "id": "ed172030",
   "metadata": {},
   "outputs": [],
   "source": []
  },
  {
   "cell_type": "markdown",
   "id": "faa0e928",
   "metadata": {},
   "source": [
    "<h4><center> ε = 0,8 </center></h4>"
   ]
  },
  {
   "cell_type": "code",
   "execution_count": null,
   "id": "545c21b0",
   "metadata": {},
   "outputs": [],
   "source": []
  },
  {
   "cell_type": "markdown",
   "id": "b3fafa7c",
   "metadata": {},
   "source": [
    "<h4><center> ε = 1 </center></h4>"
   ]
  },
  {
   "cell_type": "code",
   "execution_count": null,
   "id": "9a96ccc8",
   "metadata": {},
   "outputs": [],
   "source": []
  },
  {
   "cell_type": "markdown",
   "id": "14a86d4b",
   "metadata": {},
   "source": [
    "### Conclusão do Comparativo 1:"
   ]
  },
  {
   "cell_type": "markdown",
   "id": "f38799b3",
   "metadata": {},
   "source": []
  }
 ],
 "metadata": {
  "kernelspec": {
   "display_name": "Python 3",
   "language": "python",
   "name": "python3"
  },
  "language_info": {
   "codemirror_mode": {
    "name": "ipython",
    "version": 3
   },
   "file_extension": ".py",
   "mimetype": "text/x-python",
   "name": "python",
   "nbconvert_exporter": "python",
   "pygments_lexer": "ipython3",
   "version": "3.8.8"
  }
 },
 "nbformat": 4,
 "nbformat_minor": 5
}
